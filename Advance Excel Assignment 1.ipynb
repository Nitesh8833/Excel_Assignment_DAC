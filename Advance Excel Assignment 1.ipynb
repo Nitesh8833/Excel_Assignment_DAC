{
 "cells": [
  {
   "cell_type": "markdown",
   "id": "4a5da2e2",
   "metadata": {},
   "source": [
    "1. What do you mean by cells in an excel sheet?"
   ]
  },
  {
   "cell_type": "markdown",
   "id": "d4e28e12",
   "metadata": {},
   "source": [
    "Ans:-A cell is a rectangular area formed by the intersection of a column and a row.\n",
    "Vertical columns are numbered with alphabetic values such as A, B, C. \n",
    "Horizontal rows are numbered with numeric values such as 1, 2, 3."
   ]
  },
  {
   "cell_type": "markdown",
   "id": "8e080e06",
   "metadata": {},
   "source": [
    "2. How can you restrict someone from copying a cell from your worksheet?"
   ]
  },
  {
   "cell_type": "markdown",
   "id": "6f05d5c2",
   "metadata": {},
   "source": [
    "we need to open excel sheet and then go to menu bar in which open Review then click on Protect Sheet then provide password and Reenter password then your excel sheet is protected\n",
    "\n",
    " Menu bar >Review > Protect sheet > Password.your sheet is protected"
   ]
  },
  {
   "cell_type": "markdown",
   "id": "fc3bab73",
   "metadata": {},
   "source": [
    "3. How to move or copy the worksheet into another workbook?"
   ]
  },
  {
   "cell_type": "markdown",
   "id": "ad6a9376",
   "metadata": {},
   "source": [
    "Ans:- There are following steps to move from one worksheet to another\n",
    "    1.Open both spreadsheets.\n",
    "    2.Right-click on the sheet name you want to move.\n",
    "    3.Click “Move or Copy.”\n",
    "    4.Click on the “To book” dropdown menu and find the workbook you want this sheet to move to.\n",
    "    5.Select the “Create a copy” checkbox at the bottom of the window.\n",
    "    6.Click “OK.”\n",
    "    7.This will move the sheet to another workbook."
   ]
  },
  {
   "cell_type": "markdown",
   "id": "79bef832",
   "metadata": {},
   "source": [
    "4.Which key is used as a shortcut for opening a new window document?"
   ]
  },
  {
   "cell_type": "markdown",
   "id": "7dd3ef7a",
   "metadata": {},
   "source": [
    "Ans:-ctrl + N"
   ]
  },
  {
   "cell_type": "markdown",
   "id": "0e3294ff",
   "metadata": {},
   "source": [
    "5.What are the things that we can notice after opening the Excel interface?"
   ]
  },
  {
   "cell_type": "markdown",
   "id": "97d3a10c",
   "metadata": {},
   "source": [
    "There are seven tabs on the Excel Ribbon: File, Home, Insert, Page Layout, Formulas, Data, Review, and View\n",
    "    The Home tab is the default tab when Excel is opened.\n",
    "    1.File:-To create a new sheet, open a file, save the file, print the file,Share the file,  export the file and \n",
    "        close the current file.\n",
    "    2.Home:-Similar features are assembled in the group, there is a Clipboard group with cut, copy, paste and formet painter\n",
    "        commands; and a Font group with font styles, colors,  sizes,fill color,font color,bold font and italic font.\n",
    "        There also many group apart from that ,They are alignment,Number,Style,cells and editing.All groups\n",
    "        are performing diffrent role in editing the document.\n",
    "    3.Insert:-This is where users can add various items to a spreadsheet, including Pivot Tables, pictures, shapes, charts,\n",
    "        graphs, symbols, sparklines, filters,linkes,text and apps etc.\n",
    "    4.Page Layout:-This allows users to customize the layout of the spreadsheet by adjusting the margins, color themes, \n",
    "        gridlines, and print area. The changes are applicable when being printed as well. \n",
    "    5.Formulas:-This is where all essential formulas are categorized under the function library and it provides various                      controlling options.       \n",
    "    6. Data:-This allows users to manage data in the current spreadsheet, within the file, and also to import external data                  from other sources.\n",
    "    7.Review:-This is for users to perform various controlling functions, including spell check, translate, adding comments and               notes, track changes,and to enable worksheet protection.\n",
    "    8.View:-This provides options to alter the views of worksheets — gridlines, zoom, freeze panes, and to switch windows.\n",
    "        \n",
    "        \n",
    "\n",
    "    \n",
    "    "
   ]
  },
  {
   "cell_type": "code",
   "execution_count": null,
   "id": "a8e7d2d2",
   "metadata": {},
   "outputs": [],
   "source": [
    "6. What is the syntax of the vlookup function? Explain the terms in it?"
   ]
  },
  {
   "cell_type": "markdown",
   "id": "d41e0a7c",
   "metadata": {},
   "source": [
    "Syntex for vlookpu function = VLOOKUP (lookup_value, table_array, col_index_num ,range_lookup)\n",
    "\n",
    "Detailed Explanation\n",
    "\n",
    "lookup_value - It is the value to be found in the first column of the table.\n",
    "\n",
    "table_array - It is a table of text, numbers or logical values. Table_array can be a cell reference or a range name.\n",
    "\n",
    "col_index_num - It is the column number in table_array from which the matching value should be returned.\n",
    "\n",
    "range_lookup -\n",
    "1 (TRUE) - Find the closest match in first column sorted in ascending order.\n",
    "0 (FALSE) - Find an exact match\n",
    "\n",
    "Note : If you don't enter a value in the fourth parameter \"range_lookup\" of vlookup, excel will consider 1 as a logical value i.e. closest match."
   ]
  },
  {
   "cell_type": "code",
   "execution_count": null,
   "id": "6df80648",
   "metadata": {},
   "outputs": [],
   "source": []
  }
 ],
 "metadata": {
  "kernelspec": {
   "display_name": "Python 3",
   "language": "python",
   "name": "python3"
  },
  "language_info": {
   "codemirror_mode": {
    "name": "ipython",
    "version": 3
   },
   "file_extension": ".py",
   "mimetype": "text/x-python",
   "name": "python",
   "nbconvert_exporter": "python",
   "pygments_lexer": "ipython3",
   "version": "3.8.8"
  }
 },
 "nbformat": 4,
 "nbformat_minor": 5
}
