{
 "cells": [
  {
   "cell_type": "markdown",
   "id": "13689d01",
   "metadata": {},
   "source": [
    "1.What does the dollar($) sign do?"
   ]
  },
  {
   "cell_type": "raw",
   "id": "dbb265a9",
   "metadata": {},
   "source": [
    "It means that the row or column which comes after the dollar sign is anchored or absolute, and therefore will stay the same as you copy and paste formulae to another cell.\n",
    "\n",
    "Excel by default uses “relative” reference to a cell, which means that the formula changes as you copy it to another cell.\n",
    "For example, a formula in column D that states =SUM(A1:A5) will become =SUM(B1:B5) when it is copied into a cell in column E.\n",
    "\n",
    "By using the dollar sign, you can ensure that either the row stays the same, the column stays the same, or that you want a specific cell referenced.\n",
    "$A1 means that the formula will always pull information from column A, regardless of which column it appears, but it can change the row depending on where the formula appears.\n",
    "\n",
    "A$1 means that the formula will always pull from the first row, regardless of which row it appears, but it can change the column depending on where the formula appears.\n",
    "$A$1 means that no matter where the formula is placed on the sheet, it will always reference the A1 cell."
   ]
  },
  {
   "cell_type": "code",
   "execution_count": null,
   "id": "81453904",
   "metadata": {},
   "outputs": [],
   "source": [
    "2.How to Change the Reference from Relative to Absolute (or Mixed)?"
   ]
  },
  {
   "cell_type": "raw",
   "id": "2baae7a2",
   "metadata": {},
   "source": [
    "To change the reference from relative to absolute, you need to add the dollar sign before the column notation and the \n",
    "row number.\n",
    "\n",
    "For example, A1 is a relative cell reference, and it would become absolute when you make it $A$1.\n",
    "\n",
    "If you only have a couple of references to change, you may find it easy to change these references manually. So you can go to the formula bar and edit the formula (or select the cell, press F2, and then change it).\n",
    "\n",
    "However, a faster way to do this is by using the keyboard shortcut – F4.\n",
    "\n",
    "When you select a cell reference (in the formula bar or in the cell in edit mode) and press F4, it changes the reference.\n",
    "\n",
    "Suppose you have the reference =A1 in a cell.\n",
    "\n",
    "Here is what happens when you select the reference and press the F4 key.\n",
    "\n",
    "Press F4 key once: The cell reference changes from A1 to $A$1 (becomes ‘absolute’ from ‘relative’).\n",
    "Press F4 key two times: The cell reference changes from A1 to A$1 (changes to mixed reference where the row is locked).\n",
    "Press F4 key three times: The cell reference changes from A1 to $A1 (changes to mixed reference where the column is locked).\n",
    "Press F4 key four times: The cell reference becomes A1 again."
   ]
  },
  {
   "cell_type": "code",
   "execution_count": null,
   "id": "4f22a800",
   "metadata": {},
   "outputs": [],
   "source": [
    "3.Explain the order of operations in excel?"
   ]
  },
  {
   "cell_type": "code",
   "execution_count": null,
   "id": "ed66c1c7",
   "metadata": {},
   "outputs": [],
   "source": [
    "When evaluating a formula, Excel follows a standard math protocol called \"order of operations\". In general, Excel's order of operation follows the acronym PEMDAS (Parentheses, Exponents, Multiplication, Division, Addition, Subtraction) but with some customization to handle the formula syntax in a spreadsheet. \n",
    "\n",
    "First, any expressions in parentheses are evaluated. Parentheses essentially override the normal order of operations to ensure certain operations are performed first.\n",
    "\n",
    "Next, Excel will resolve references. This involves replacing cell references like A1 with the value from the cell, as well as evaluating range references like A1:A5, which become arrays of values. Other range operations like union (comma) and intersection (space) also happen at this time.\n",
    "\n",
    "Next, Excel will perform exponentiation, negation, and percent conversions (in that order), followed by multiplication and division, addition and subtraction, and concatenation. Finally, Excel will evaluate logical operators, if present.\n",
    "\n",
    "In summary, Excel solves formulas in the following order:\n",
    "\n",
    "Parentheses\n",
    "Reference operators\n",
    "Exponents\n",
    "Negation\n",
    "Percent\n",
    "Multiplication and Division\n",
    "Addition and Subtraction\n",
    "Concatenation\n",
    "Logical operators\n",
    "Note: If a formula contains multiple operators with the same priority (e.g. multiplication and division, or addition and subtraction), Excel will evaluate the operators from left to right."
   ]
  },
  {
   "cell_type": "code",
   "execution_count": null,
   "id": "e09ffc1f",
   "metadata": {},
   "outputs": [],
   "source": [
    "4.What, according to you, are the top 5 functions in excel and write a basic syntax\n",
    "for any of two?"
   ]
  },
  {
   "cell_type": "raw",
   "id": "a65be567",
   "metadata": {},
   "source": [
    "The top five function in excel are:-\n",
    "    1.SUM\n",
    "    2.TEXT\n",
    "    3.VLOOKUP\n",
    "    4.AVERAGE\n",
    "    5.CONCATENATE\n",
    "    \n",
    "Syntex:-\n",
    "    1.SUM:-\n",
    "        The syntax formula for sum function is “=SUM” (number1, number2).the sum function for the cells A2 through A7\n",
    "        is obtained through the formula “=SUM(A2:A7)”, giving you the result of sum of all cells from A2 to A7.\n",
    "        example:- =SUM(A2:A7)\n",
    "    2.TEXT:-\n",
    "        The syntax formula for text function is “=TEXT” (value, format_text).\n",
    "        “Value” refers to the particular number you wish to convert to text.\n",
    "        “Format_text” defines the format of the conversion.\n",
    "        the user uses a text formula to find the abbreviated day for the date “=TEXT (B2, “ddd”)”."
   ]
  },
  {
   "cell_type": "raw",
   "id": "2b334922",
   "metadata": {},
   "source": [
    "5.When would you use the subtotal function?"
   ]
  },
  {
   "cell_type": "code",
   "execution_count": null,
   "id": "b0f6582a",
   "metadata": {},
   "outputs": [],
   "source": [
    "Ans:- We use subtotal function when we need sum of the column in which filter is already applied on it\n",
    "    so that if we need to deselect some item from that we get sum of the remaining items."
   ]
  },
  {
   "cell_type": "code",
   "execution_count": null,
   "id": "48609ca2",
   "metadata": {},
   "outputs": [],
   "source": [
    "6.What is the syntax of the vlookup function? Explain the terms in it?"
   ]
  },
  {
   "cell_type": "code",
   "execution_count": null,
   "id": "72fc8372",
   "metadata": {},
   "outputs": [],
   "source": [
    "The syntax for the VLOOKUP function in Excel is:\n",
    "    VLOOKUP( value, table, index_number, [approximate_match] )\n",
    "    value\n",
    "    The value to search for in the first column of the table.\n",
    "    table\n",
    "    Two or more columns of data that is sorted in ascending order.\n",
    "    index_number\n",
    "    The column number in table from which the matching value must be returned. The first column is 1.\n",
    "    approximate_match \n",
    "    Optional Enter FALSE to find an exact match. Enter TRUE to find an approximate match. If this parameter is omitted, \n",
    "    TRUE is the default."
   ]
  }
 ],
 "metadata": {
  "kernelspec": {
   "display_name": "Python 3",
   "language": "python",
   "name": "python3"
  },
  "language_info": {
   "codemirror_mode": {
    "name": "ipython",
    "version": 3
   },
   "file_extension": ".py",
   "mimetype": "text/x-python",
   "name": "python",
   "nbconvert_exporter": "python",
   "pygments_lexer": "ipython3",
   "version": "3.8.8"
  }
 },
 "nbformat": 4,
 "nbformat_minor": 5
}
