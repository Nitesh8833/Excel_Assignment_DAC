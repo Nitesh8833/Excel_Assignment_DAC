{
 "cells": [
  {
   "cell_type": "raw",
   "id": "67877e52",
   "metadata": {},
   "source": [
    "1. To use the ribbon commands, what menu and grouping of commands will you\n",
    "find the Insert and Delete command?"
   ]
  },
  {
   "cell_type": "raw",
   "id": "67fa0840",
   "metadata": {},
   "source": [
    "Ans:-In home menu,we need to look into cell grouping we can find insert and delete command."
   ]
  },
  {
   "cell_type": "raw",
   "id": "13b26d99",
   "metadata": {},
   "source": [
    "2.If you set a row height or column width to 0 (zero), what happens to the row and\n",
    "column?"
   ]
  },
  {
   "cell_type": "raw",
   "id": "8d060e78",
   "metadata": {},
   "source": [
    "Ans:-If you set a row height or column width to 0 (zero) then row and column are hidden."
   ]
  },
  {
   "cell_type": "raw",
   "id": "2fb7c666",
   "metadata": {},
   "source": [
    "3.Is there a need to change the height and width in a cell? Why?"
   ]
  },
  {
   "cell_type": "raw",
   "id": "ca4e2926",
   "metadata": {},
   "source": [
    "Ans:-yes,It is necessary to change width and height in excel to fit the data."
   ]
  },
  {
   "cell_type": "raw",
   "id": "cf3bf8a5",
   "metadata": {},
   "source": [
    "4.What is the keyboard shortcut to unhide rows?"
   ]
  },
  {
   "cell_type": "raw",
   "id": "799b3a4a",
   "metadata": {},
   "source": [
    "Ans:-Press Ctrl + Shift + 9 to unhide all rows "
   ]
  },
  {
   "cell_type": "raw",
   "id": "29176c5b",
   "metadata": {},
   "source": [
    "5. How to hide rows containing blank cells?"
   ]
  },
  {
   "cell_type": "raw",
   "id": "a896256c",
   "metadata": {},
   "source": [
    "a.Select the data range which contains the blank cells you want to hide\n",
    "b.Then click Home > Find & Select > Go To Special, see screenshot.\n",
    "c.And in the Go To Special dialog, select Blanks option, and then click OK button\n",
    "d.All of the blank cells in the selection have been selected\n",
    "e.Then you can press Ctrl + 9 keys together to hide the rows which have blank cells"
   ]
  },
  {
   "cell_type": "raw",
   "id": "6d882810",
   "metadata": {},
   "source": [
    "6.What are the steps to hide the duplicate values using conditional formatting in\n",
    "excel?"
   ]
  },
  {
   "cell_type": "code",
   "execution_count": null,
   "id": "9e9ea4df",
   "metadata": {},
   "outputs": [],
   "source": [
    "Select the cells you want to check for duplicates.\n",
    "Click Home > Conditional Formatting > Highlight Cells Rules > Duplicate Values.\n",
    "In the box next to values with, pick the formatting you want to apply to the duplicate values, \n",
    "and then click OK."
   ]
  }
 ],
 "metadata": {
  "kernelspec": {
   "display_name": "Python 3",
   "language": "python",
   "name": "python3"
  },
  "language_info": {
   "codemirror_mode": {
    "name": "ipython",
    "version": 3
   },
   "file_extension": ".py",
   "mimetype": "text/x-python",
   "name": "python",
   "nbconvert_exporter": "python",
   "pygments_lexer": "ipython3",
   "version": "3.8.8"
  }
 },
 "nbformat": 4,
 "nbformat_minor": 5
}
