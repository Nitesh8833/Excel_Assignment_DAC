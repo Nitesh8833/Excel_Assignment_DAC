{
 "cells": [
  {
   "cell_type": "raw",
   "id": "9fa1c347",
   "metadata": {},
   "source": [
    "1.How and when to use the AutoSum command in excel?"
   ]
  },
  {
   "cell_type": "raw",
   "id": "d90913ca",
   "metadata": {},
   "source": [
    "a.To sum a column, select the cell immediately below the last value in the column\n",
    "b.To sum a row, select the cell to the right of the last number in the row.\n",
    "c.Click the AutoSum button on either the Home or Formulas tab.\n",
    "\n",
    "If we need to sum a column or row of numbers then we use autosum in excel\n",
    "\n"
   ]
  },
  {
   "cell_type": "raw",
   "id": "68b0fdf6",
   "metadata": {},
   "source": [
    "2. What is the shortcut key to perform AutoSum?"
   ]
  },
  {
   "cell_type": "raw",
   "id": "ed243b5d",
   "metadata": {},
   "source": [
    "The shortcut key to perform AutoSum is  ALT+= (ALT and = at the same time), allows you to automatically sum rows and/or columns"
   ]
  },
  {
   "cell_type": "raw",
   "id": "c8a42ac2",
   "metadata": {},
   "source": [
    "3. How do you get rid of Formula that omits adjacent cells?"
   ]
  },
  {
   "cell_type": "raw",
   "id": "24ccdb1e",
   "metadata": {},
   "source": [
    "a.Open Excel and then click on File.\n",
    "b.Go to Options and then select Formulas.\n",
    "c.Look for Error checking rules and uncheck Formulas which omit cells in a region.\n",
    "d.Click OK."
   ]
  },
  {
   "cell_type": "raw",
   "id": "a4c1ab65",
   "metadata": {},
   "source": [
    "4. How do you select non-adjacent cells in Excel 2016?"
   ]
  },
  {
   "cell_type": "code",
   "execution_count": null,
   "id": "d6f80c38",
   "metadata": {},
   "outputs": [],
   "source": [
    "Ans:- hold Ctrl and select the cells."
   ]
  },
  {
   "cell_type": "raw",
   "id": "9a54ae55",
   "metadata": {},
   "source": [
    "5. What happens if you choose a column, hold down the Alt key and press the letters\n",
    "ocw in quick succession?\n"
   ]
  },
  {
   "cell_type": "raw",
   "id": "5c239b77",
   "metadata": {},
   "source": [
    "The contents of the first cell in the selected column will be replaced with the letters 'O-C-W'."
   ]
  },
  {
   "cell_type": "raw",
   "id": "fc9cb4c3",
   "metadata": {},
   "source": [
    "6. If you right-click on a row reference number and click on Insert, where will the row\n",
    "be added?"
   ]
  },
  {
   "cell_type": "code",
   "execution_count": null,
   "id": "e5161c6c",
   "metadata": {},
   "outputs": [],
   "source": [
    "Just above that a new row is added in worksheet."
   ]
  }
 ],
 "metadata": {
  "kernelspec": {
   "display_name": "Python 3",
   "language": "python",
   "name": "python3"
  },
  "language_info": {
   "codemirror_mode": {
    "name": "ipython",
    "version": 3
   },
   "file_extension": ".py",
   "mimetype": "text/x-python",
   "name": "python",
   "nbconvert_exporter": "python",
   "pygments_lexer": "ipython3",
   "version": "3.8.8"
  }
 },
 "nbformat": 4,
 "nbformat_minor": 5
}
