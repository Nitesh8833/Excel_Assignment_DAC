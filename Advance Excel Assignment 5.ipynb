{
 "cells": [
  {
   "cell_type": "raw",
   "id": "fb36f2c7",
   "metadata": {},
   "source": [
    "1.How many types of conditions are available in conditional formatting on Excel?"
   ]
  },
  {
   "cell_type": "raw",
   "id": "883304bc",
   "metadata": {},
   "source": [
    "Ans:-There are 5 types of conditions are available in conditional formatting on Excel"
   ]
  },
  {
   "cell_type": "raw",
   "id": "02b8b615",
   "metadata": {},
   "source": [
    "2. How to insert border in Excel with Format Cells dialog?"
   ]
  },
  {
   "cell_type": "raw",
   "id": "3b06c658",
   "metadata": {},
   "source": [
    "To insert a border via the Format Cells dialog, this is what you need to do:\n",
    "    \n",
    "a)Select one or more cells to which you'd like to add borders.\n",
    "\n",
    "b)Open the Format Cells dialog box by doing one of the following:\n",
    "    \n",
    "Click the down arrow next to the Borders button, and then click More Borders at the bottom of the drop-down list.\n",
    "\n",
    "Right click the selected cells and choose Format Cells… from the context menu.\n",
    "\n",
    "Press Ctrl+1 shortcut.\n",
    "\n",
    "In the Format Cells dialog box, switch to the Border tab and choose the line style and\n",
    "color first. And then, either use Presets to add the outside or inside borders or construct\n",
    "the desired border by selecting individual elements such as border top, bottom, right or left.\n",
    "The preview diagram will reflect the changes immediately.\n",
    "\n",
    "When done, click OK."
   ]
  },
  {
   "cell_type": "code",
   "execution_count": null,
   "id": "be4a1c21",
   "metadata": {},
   "outputs": [],
   "source": [
    "3.How to Format Numbers as Currency in Excel?"
   ]
  },
  {
   "cell_type": "raw",
   "id": "4936550f",
   "metadata": {},
   "source": [
    "In the Home toolbar is the Number Format drop down menu. It displays the current number formatting\n",
    "for the selected cell and allows you to change the format quickly\n",
    "\n",
    "Click on the arrow to the right. This opens the drop down menu.\n",
    "\n",
    "Select either Currency or Accounting. Either one will format the cell for money.\n",
    "\n"
   ]
  },
  {
   "cell_type": "code",
   "execution_count": null,
   "id": "398826bd",
   "metadata": {},
   "outputs": [],
   "source": [
    "4.What are the steps to format numbers in Excel with the Percent style?"
   ]
  },
  {
   "cell_type": "raw",
   "id": "6d008541",
   "metadata": {},
   "source": [
    "In the Home toolbar is the Number Format drop down menu. It displays the current number formatting\n",
    "for the selected cell and allows you to change the format quickly\n",
    "\n",
    "Click on the arrow to the right. This opens the drop down menu.\n",
    "\n",
    "Select percentage. This one will format the cell for percentage"
   ]
  },
  {
   "cell_type": "raw",
   "id": "7bcf5cf6",
   "metadata": {},
   "source": [
    "5.What is a shortcut to merge two or more cells in excel?"
   ]
  },
  {
   "cell_type": "raw",
   "id": "721e0c05",
   "metadata": {},
   "source": [
    "Merge Cells: ALT H+M+M"
   ]
  },
  {
   "cell_type": "raw",
   "id": "ce4d2df1",
   "metadata": {},
   "source": [
    "6. How do you use text commands in Excel?"
   ]
  },
  {
   "cell_type": "code",
   "execution_count": null,
   "id": "f76923fc",
   "metadata": {},
   "outputs": [],
   "source": [
    "=TEXT(value, format_text)\n",
    "\n",
    "'value' – This is a required argument where you input the numeric value you want to convert to \n",
    "a text string. The supplied value can be a number, date, or a cell reference that contains a number,\n",
    "date, or an output from another formula that's a number or date.\n",
    "\n",
    "'format_text' – This is a required argument where you prescribe a format for the output using a \n",
    "format code. You can use any formatting code that Excel recognizes."
   ]
  }
 ],
 "metadata": {
  "kernelspec": {
   "display_name": "Python 3",
   "language": "python",
   "name": "python3"
  },
  "language_info": {
   "codemirror_mode": {
    "name": "ipython",
    "version": 3
   },
   "file_extension": ".py",
   "mimetype": "text/x-python",
   "name": "python",
   "nbconvert_exporter": "python",
   "pygments_lexer": "ipython3",
   "version": "3.8.8"
  }
 },
 "nbformat": 4,
 "nbformat_minor": 5
}
